{
 "cells": [
  {
   "cell_type": "code",
   "execution_count": 2,
   "metadata": {},
   "outputs": [
    {
     "name": "stdout",
     "output_type": "stream",
     "text": [
      "Requirement already satisfied: convokit in /Users/birajdahal/.pyenv/versions/3.11.9/lib/python3.11/site-packages (from -r ./../requirements.txt (line 1)) (3.1.0)\n",
      "Requirement already satisfied: pandas in /Users/birajdahal/.pyenv/versions/3.11.9/lib/python3.11/site-packages (from -r ./../requirements.txt (line 2)) (2.2.3)\n",
      "Requirement already satisfied: numpy in /Users/birajdahal/.pyenv/versions/3.11.9/lib/python3.11/site-packages (from -r ./../requirements.txt (line 3)) (2.0.2)\n",
      "Requirement already satisfied: scikit-learn in /Users/birajdahal/.pyenv/versions/3.11.9/lib/python3.11/site-packages (from -r ./../requirements.txt (line 4)) (1.6.1)\n",
      "Requirement already satisfied: transformers in /Users/birajdahal/.pyenv/versions/3.11.9/lib/python3.11/site-packages (from -r ./../requirements.txt (line 5)) (4.49.0)\n",
      "Requirement already satisfied: torch in /Users/birajdahal/.pyenv/versions/3.11.9/lib/python3.11/site-packages (from -r ./../requirements.txt (line 6)) (2.6.0)\n",
      "Requirement already satisfied: matplotlib>=3.0.0 in /Users/birajdahal/.pyenv/versions/3.11.9/lib/python3.11/site-packages (from convokit->-r ./../requirements.txt (line 1)) (3.10.0)\n",
      "Requirement already satisfied: scipy>1.14 in /Users/birajdahal/.pyenv/versions/3.11.9/lib/python3.11/site-packages (from convokit->-r ./../requirements.txt (line 1)) (1.15.2)\n",
      "Requirement already satisfied: msgpack-numpy>=0.4.3.2 in /Users/birajdahal/.pyenv/versions/3.11.9/lib/python3.11/site-packages (from convokit->-r ./../requirements.txt (line 1)) (0.4.8)\n",
      "Requirement already satisfied: spacy>=3.8.2 in /Users/birajdahal/.pyenv/versions/3.11.9/lib/python3.11/site-packages (from convokit->-r ./../requirements.txt (line 1)) (3.8.4)\n",
      "Requirement already satisfied: nltk>=3.4 in /Users/birajdahal/.pyenv/versions/3.11.9/lib/python3.11/site-packages (from convokit->-r ./../requirements.txt (line 1)) (3.9.1)\n",
      "Requirement already satisfied: dill>=0.2.9 in /Users/birajdahal/.pyenv/versions/3.11.9/lib/python3.11/site-packages (from convokit->-r ./../requirements.txt (line 1)) (0.3.8)\n",
      "Requirement already satisfied: joblib>=0.13.2 in /Users/birajdahal/.pyenv/versions/3.11.9/lib/python3.11/site-packages (from convokit->-r ./../requirements.txt (line 1)) (1.4.2)\n",
      "Requirement already satisfied: clean-text>=0.6.0 in /Users/birajdahal/.pyenv/versions/3.11.9/lib/python3.11/site-packages (from convokit->-r ./../requirements.txt (line 1)) (0.6.0)\n",
      "Requirement already satisfied: unidecode>=1.1.1 in /Users/birajdahal/.pyenv/versions/3.11.9/lib/python3.11/site-packages (from convokit->-r ./../requirements.txt (line 1)) (1.3.8)\n",
      "Requirement already satisfied: tqdm>=4.64.0 in /Users/birajdahal/.pyenv/versions/3.11.9/lib/python3.11/site-packages (from convokit->-r ./../requirements.txt (line 1)) (4.67.1)\n",
      "Requirement already satisfied: pymongo>=4.0 in /Users/birajdahal/.pyenv/versions/3.11.9/lib/python3.11/site-packages (from convokit->-r ./../requirements.txt (line 1)) (4.11.1)\n",
      "Requirement already satisfied: pyyaml>=5.4.1 in /Users/birajdahal/.pyenv/versions/3.11.9/lib/python3.11/site-packages (from convokit->-r ./../requirements.txt (line 1)) (6.0.2)\n",
      "Requirement already satisfied: dnspython>=1.16.0 in /Users/birajdahal/.pyenv/versions/3.11.9/lib/python3.11/site-packages (from convokit->-r ./../requirements.txt (line 1)) (2.7.0)\n",
      "Requirement already satisfied: thinc<8.4.0,>=8.3.0 in /Users/birajdahal/.pyenv/versions/3.11.9/lib/python3.11/site-packages (from convokit->-r ./../requirements.txt (line 1)) (8.3.4)\n",
      "Requirement already satisfied: h5py==3.12.1 in /Users/birajdahal/.pyenv/versions/3.11.9/lib/python3.11/site-packages (from convokit->-r ./../requirements.txt (line 1)) (3.12.1)\n",
      "Requirement already satisfied: numexpr>=2.8.0 in /Users/birajdahal/.pyenv/versions/3.11.9/lib/python3.11/site-packages (from convokit->-r ./../requirements.txt (line 1)) (2.10.2)\n",
      "Requirement already satisfied: ruff>=0.4.8 in /Users/birajdahal/.pyenv/versions/3.11.9/lib/python3.11/site-packages (from convokit->-r ./../requirements.txt (line 1)) (0.9.6)\n",
      "Requirement already satisfied: bottleneck in /Users/birajdahal/.pyenv/versions/3.11.9/lib/python3.11/site-packages (from convokit->-r ./../requirements.txt (line 1)) (1.4.2)\n",
      "Requirement already satisfied: accelerate in /Users/birajdahal/.pyenv/versions/3.11.9/lib/python3.11/site-packages (from convokit->-r ./../requirements.txt (line 1)) (1.4.0)\n",
      "Requirement already satisfied: peft in /Users/birajdahal/.pyenv/versions/3.11.9/lib/python3.11/site-packages (from convokit->-r ./../requirements.txt (line 1)) (0.14.0)\n",
      "Requirement already satisfied: bitsandbytes in /Users/birajdahal/.pyenv/versions/3.11.9/lib/python3.11/site-packages (from convokit->-r ./../requirements.txt (line 1)) (0.42.0)\n",
      "Requirement already satisfied: trl>=0.12.2 in /Users/birajdahal/.pyenv/versions/3.11.9/lib/python3.11/site-packages (from convokit->-r ./../requirements.txt (line 1)) (0.15.1)\n",
      "Requirement already satisfied: tensorflow>=2.18.0 in /Users/birajdahal/.pyenv/versions/3.11.9/lib/python3.11/site-packages (from convokit->-r ./../requirements.txt (line 1)) (2.18.0)\n",
      "Requirement already satisfied: tf-keras<3.0.0,>=2.17.0 in /Users/birajdahal/.pyenv/versions/3.11.9/lib/python3.11/site-packages (from convokit->-r ./../requirements.txt (line 1)) (2.18.0)\n",
      "Requirement already satisfied: python-dateutil>=2.8.2 in /Users/birajdahal/.pyenv/versions/3.11.9/lib/python3.11/site-packages (from pandas->-r ./../requirements.txt (line 2)) (2.9.0.post0)\n",
      "Requirement already satisfied: pytz>=2020.1 in /Users/birajdahal/.pyenv/versions/3.11.9/lib/python3.11/site-packages (from pandas->-r ./../requirements.txt (line 2)) (2025.1)\n",
      "Requirement already satisfied: tzdata>=2022.7 in /Users/birajdahal/.pyenv/versions/3.11.9/lib/python3.11/site-packages (from pandas->-r ./../requirements.txt (line 2)) (2025.1)\n",
      "Requirement already satisfied: threadpoolctl>=3.1.0 in /Users/birajdahal/.pyenv/versions/3.11.9/lib/python3.11/site-packages (from scikit-learn->-r ./../requirements.txt (line 4)) (3.5.0)\n",
      "Requirement already satisfied: filelock in /Users/birajdahal/.pyenv/versions/3.11.9/lib/python3.11/site-packages (from transformers->-r ./../requirements.txt (line 5)) (3.17.0)\n",
      "Requirement already satisfied: huggingface-hub<1.0,>=0.26.0 in /Users/birajdahal/.pyenv/versions/3.11.9/lib/python3.11/site-packages (from transformers->-r ./../requirements.txt (line 5)) (0.29.0)\n",
      "Requirement already satisfied: packaging>=20.0 in /Users/birajdahal/.pyenv/versions/3.11.9/lib/python3.11/site-packages (from transformers->-r ./../requirements.txt (line 5)) (24.2)\n",
      "Requirement already satisfied: regex!=2019.12.17 in /Users/birajdahal/.pyenv/versions/3.11.9/lib/python3.11/site-packages (from transformers->-r ./../requirements.txt (line 5)) (2024.11.6)\n",
      "Requirement already satisfied: requests in /Users/birajdahal/.pyenv/versions/3.11.9/lib/python3.11/site-packages (from transformers->-r ./../requirements.txt (line 5)) (2.32.3)\n",
      "Requirement already satisfied: tokenizers<0.22,>=0.21 in /Users/birajdahal/.pyenv/versions/3.11.9/lib/python3.11/site-packages (from transformers->-r ./../requirements.txt (line 5)) (0.21.0)\n",
      "Requirement already satisfied: safetensors>=0.4.1 in /Users/birajdahal/.pyenv/versions/3.11.9/lib/python3.11/site-packages (from transformers->-r ./../requirements.txt (line 5)) (0.5.2)\n",
      "Requirement already satisfied: typing-extensions>=4.10.0 in /Users/birajdahal/.pyenv/versions/3.11.9/lib/python3.11/site-packages (from torch->-r ./../requirements.txt (line 6)) (4.12.2)\n",
      "Requirement already satisfied: networkx in /Users/birajdahal/.pyenv/versions/3.11.9/lib/python3.11/site-packages (from torch->-r ./../requirements.txt (line 6)) (3.4.2)\n",
      "Requirement already satisfied: jinja2 in /Users/birajdahal/.pyenv/versions/3.11.9/lib/python3.11/site-packages (from torch->-r ./../requirements.txt (line 6)) (3.1.5)\n",
      "Requirement already satisfied: fsspec in /Users/birajdahal/.pyenv/versions/3.11.9/lib/python3.11/site-packages (from torch->-r ./../requirements.txt (line 6)) (2024.12.0)\n",
      "Requirement already satisfied: sympy==1.13.1 in /Users/birajdahal/.pyenv/versions/3.11.9/lib/python3.11/site-packages (from torch->-r ./../requirements.txt (line 6)) (1.13.1)\n",
      "Requirement already satisfied: mpmath<1.4,>=1.1.0 in /Users/birajdahal/.pyenv/versions/3.11.9/lib/python3.11/site-packages (from sympy==1.13.1->torch->-r ./../requirements.txt (line 6)) (1.3.0)\n",
      "Requirement already satisfied: emoji<2.0.0,>=1.0.0 in /Users/birajdahal/.pyenv/versions/3.11.9/lib/python3.11/site-packages (from clean-text>=0.6.0->convokit->-r ./../requirements.txt (line 1)) (1.7.0)\n",
      "Requirement already satisfied: ftfy<7.0,>=6.0 in /Users/birajdahal/.pyenv/versions/3.11.9/lib/python3.11/site-packages (from clean-text>=0.6.0->convokit->-r ./../requirements.txt (line 1)) (6.3.1)\n",
      "Requirement already satisfied: contourpy>=1.0.1 in /Users/birajdahal/.pyenv/versions/3.11.9/lib/python3.11/site-packages (from matplotlib>=3.0.0->convokit->-r ./../requirements.txt (line 1)) (1.3.1)\n",
      "Requirement already satisfied: cycler>=0.10 in /Users/birajdahal/.pyenv/versions/3.11.9/lib/python3.11/site-packages (from matplotlib>=3.0.0->convokit->-r ./../requirements.txt (line 1)) (0.12.1)\n",
      "Requirement already satisfied: fonttools>=4.22.0 in /Users/birajdahal/.pyenv/versions/3.11.9/lib/python3.11/site-packages (from matplotlib>=3.0.0->convokit->-r ./../requirements.txt (line 1)) (4.56.0)\n",
      "Requirement already satisfied: kiwisolver>=1.3.1 in /Users/birajdahal/.pyenv/versions/3.11.9/lib/python3.11/site-packages (from matplotlib>=3.0.0->convokit->-r ./../requirements.txt (line 1)) (1.4.8)\n",
      "Requirement already satisfied: pillow>=8 in /Users/birajdahal/.pyenv/versions/3.11.9/lib/python3.11/site-packages (from matplotlib>=3.0.0->convokit->-r ./../requirements.txt (line 1)) (11.1.0)\n",
      "Requirement already satisfied: pyparsing>=2.3.1 in /Users/birajdahal/.pyenv/versions/3.11.9/lib/python3.11/site-packages (from matplotlib>=3.0.0->convokit->-r ./../requirements.txt (line 1)) (3.2.1)\n",
      "Requirement already satisfied: msgpack>=0.5.2 in /Users/birajdahal/.pyenv/versions/3.11.9/lib/python3.11/site-packages (from msgpack-numpy>=0.4.3.2->convokit->-r ./../requirements.txt (line 1)) (1.1.0)\n",
      "Requirement already satisfied: click in /Users/birajdahal/.pyenv/versions/3.11.9/lib/python3.11/site-packages (from nltk>=3.4->convokit->-r ./../requirements.txt (line 1)) (8.1.8)\n",
      "Requirement already satisfied: six>=1.5 in /Users/birajdahal/.pyenv/versions/3.11.9/lib/python3.11/site-packages (from python-dateutil>=2.8.2->pandas->-r ./../requirements.txt (line 2)) (1.17.0)\n",
      "Requirement already satisfied: spacy-legacy<3.1.0,>=3.0.11 in /Users/birajdahal/.pyenv/versions/3.11.9/lib/python3.11/site-packages (from spacy>=3.8.2->convokit->-r ./../requirements.txt (line 1)) (3.0.12)\n",
      "Requirement already satisfied: spacy-loggers<2.0.0,>=1.0.0 in /Users/birajdahal/.pyenv/versions/3.11.9/lib/python3.11/site-packages (from spacy>=3.8.2->convokit->-r ./../requirements.txt (line 1)) (1.0.5)\n",
      "Requirement already satisfied: murmurhash<1.1.0,>=0.28.0 in /Users/birajdahal/.pyenv/versions/3.11.9/lib/python3.11/site-packages (from spacy>=3.8.2->convokit->-r ./../requirements.txt (line 1)) (1.0.12)\n",
      "Requirement already satisfied: cymem<2.1.0,>=2.0.2 in /Users/birajdahal/.pyenv/versions/3.11.9/lib/python3.11/site-packages (from spacy>=3.8.2->convokit->-r ./../requirements.txt (line 1)) (2.0.11)\n",
      "Requirement already satisfied: preshed<3.1.0,>=3.0.2 in /Users/birajdahal/.pyenv/versions/3.11.9/lib/python3.11/site-packages (from spacy>=3.8.2->convokit->-r ./../requirements.txt (line 1)) (3.0.9)\n",
      "Requirement already satisfied: wasabi<1.2.0,>=0.9.1 in /Users/birajdahal/.pyenv/versions/3.11.9/lib/python3.11/site-packages (from spacy>=3.8.2->convokit->-r ./../requirements.txt (line 1)) (1.1.3)\n",
      "Requirement already satisfied: srsly<3.0.0,>=2.4.3 in /Users/birajdahal/.pyenv/versions/3.11.9/lib/python3.11/site-packages (from spacy>=3.8.2->convokit->-r ./../requirements.txt (line 1)) (2.5.1)\n",
      "Requirement already satisfied: catalogue<2.1.0,>=2.0.6 in /Users/birajdahal/.pyenv/versions/3.11.9/lib/python3.11/site-packages (from spacy>=3.8.2->convokit->-r ./../requirements.txt (line 1)) (2.0.10)\n",
      "Requirement already satisfied: weasel<0.5.0,>=0.1.0 in /Users/birajdahal/.pyenv/versions/3.11.9/lib/python3.11/site-packages (from spacy>=3.8.2->convokit->-r ./../requirements.txt (line 1)) (0.4.1)\n",
      "Requirement already satisfied: typer<1.0.0,>=0.3.0 in /Users/birajdahal/.pyenv/versions/3.11.9/lib/python3.11/site-packages (from spacy>=3.8.2->convokit->-r ./../requirements.txt (line 1)) (0.15.1)\n",
      "Requirement already satisfied: pydantic!=1.8,!=1.8.1,<3.0.0,>=1.7.4 in /Users/birajdahal/.pyenv/versions/3.11.9/lib/python3.11/site-packages (from spacy>=3.8.2->convokit->-r ./../requirements.txt (line 1)) (2.10.6)\n",
      "Requirement already satisfied: setuptools in /Users/birajdahal/.pyenv/versions/3.11.9/lib/python3.11/site-packages (from spacy>=3.8.2->convokit->-r ./../requirements.txt (line 1)) (65.5.0)\n",
      "Requirement already satisfied: langcodes<4.0.0,>=3.2.0 in /Users/birajdahal/.pyenv/versions/3.11.9/lib/python3.11/site-packages (from spacy>=3.8.2->convokit->-r ./../requirements.txt (line 1)) (3.5.0)\n",
      "Requirement already satisfied: charset-normalizer<4,>=2 in /Users/birajdahal/.pyenv/versions/3.11.9/lib/python3.11/site-packages (from requests->transformers->-r ./../requirements.txt (line 5)) (3.4.1)\n",
      "Requirement already satisfied: idna<4,>=2.5 in /Users/birajdahal/.pyenv/versions/3.11.9/lib/python3.11/site-packages (from requests->transformers->-r ./../requirements.txt (line 5)) (3.10)\n",
      "Requirement already satisfied: urllib3<3,>=1.21.1 in /Users/birajdahal/.pyenv/versions/3.11.9/lib/python3.11/site-packages (from requests->transformers->-r ./../requirements.txt (line 5)) (2.3.0)\n",
      "Requirement already satisfied: certifi>=2017.4.17 in /Users/birajdahal/.pyenv/versions/3.11.9/lib/python3.11/site-packages (from requests->transformers->-r ./../requirements.txt (line 5)) (2025.1.31)\n",
      "Requirement already satisfied: absl-py>=1.0.0 in /Users/birajdahal/.pyenv/versions/3.11.9/lib/python3.11/site-packages (from tensorflow>=2.18.0->convokit->-r ./../requirements.txt (line 1)) (2.1.0)\n",
      "Requirement already satisfied: astunparse>=1.6.0 in /Users/birajdahal/.pyenv/versions/3.11.9/lib/python3.11/site-packages (from tensorflow>=2.18.0->convokit->-r ./../requirements.txt (line 1)) (1.6.3)\n",
      "Requirement already satisfied: flatbuffers>=24.3.25 in /Users/birajdahal/.pyenv/versions/3.11.9/lib/python3.11/site-packages (from tensorflow>=2.18.0->convokit->-r ./../requirements.txt (line 1)) (25.2.10)\n",
      "Requirement already satisfied: gast!=0.5.0,!=0.5.1,!=0.5.2,>=0.2.1 in /Users/birajdahal/.pyenv/versions/3.11.9/lib/python3.11/site-packages (from tensorflow>=2.18.0->convokit->-r ./../requirements.txt (line 1)) (0.6.0)\n",
      "Requirement already satisfied: google-pasta>=0.1.1 in /Users/birajdahal/.pyenv/versions/3.11.9/lib/python3.11/site-packages (from tensorflow>=2.18.0->convokit->-r ./../requirements.txt (line 1)) (0.2.0)\n",
      "Requirement already satisfied: libclang>=13.0.0 in /Users/birajdahal/.pyenv/versions/3.11.9/lib/python3.11/site-packages (from tensorflow>=2.18.0->convokit->-r ./../requirements.txt (line 1)) (18.1.1)\n",
      "Requirement already satisfied: opt-einsum>=2.3.2 in /Users/birajdahal/.pyenv/versions/3.11.9/lib/python3.11/site-packages (from tensorflow>=2.18.0->convokit->-r ./../requirements.txt (line 1)) (3.4.0)\n",
      "Requirement already satisfied: protobuf!=4.21.0,!=4.21.1,!=4.21.2,!=4.21.3,!=4.21.4,!=4.21.5,<6.0.0dev,>=3.20.3 in /Users/birajdahal/.pyenv/versions/3.11.9/lib/python3.11/site-packages (from tensorflow>=2.18.0->convokit->-r ./../requirements.txt (line 1)) (5.29.3)\n",
      "Requirement already satisfied: termcolor>=1.1.0 in /Users/birajdahal/.pyenv/versions/3.11.9/lib/python3.11/site-packages (from tensorflow>=2.18.0->convokit->-r ./../requirements.txt (line 1)) (2.5.0)\n",
      "Requirement already satisfied: wrapt>=1.11.0 in /Users/birajdahal/.pyenv/versions/3.11.9/lib/python3.11/site-packages (from tensorflow>=2.18.0->convokit->-r ./../requirements.txt (line 1)) (1.17.2)\n",
      "Requirement already satisfied: grpcio<2.0,>=1.24.3 in /Users/birajdahal/.pyenv/versions/3.11.9/lib/python3.11/site-packages (from tensorflow>=2.18.0->convokit->-r ./../requirements.txt (line 1)) (1.70.0)\n",
      "Requirement already satisfied: tensorboard<2.19,>=2.18 in /Users/birajdahal/.pyenv/versions/3.11.9/lib/python3.11/site-packages (from tensorflow>=2.18.0->convokit->-r ./../requirements.txt (line 1)) (2.18.0)\n",
      "Requirement already satisfied: keras>=3.5.0 in /Users/birajdahal/.pyenv/versions/3.11.9/lib/python3.11/site-packages (from tensorflow>=2.18.0->convokit->-r ./../requirements.txt (line 1)) (3.8.0)\n",
      "Requirement already satisfied: ml-dtypes<0.5.0,>=0.4.0 in /Users/birajdahal/.pyenv/versions/3.11.9/lib/python3.11/site-packages (from tensorflow>=2.18.0->convokit->-r ./../requirements.txt (line 1)) (0.4.1)\n",
      "Requirement already satisfied: tensorflow-io-gcs-filesystem>=0.23.1 in /Users/birajdahal/.pyenv/versions/3.11.9/lib/python3.11/site-packages (from tensorflow>=2.18.0->convokit->-r ./../requirements.txt (line 1)) (0.37.1)\n",
      "Requirement already satisfied: blis<1.3.0,>=1.2.0 in /Users/birajdahal/.pyenv/versions/3.11.9/lib/python3.11/site-packages (from thinc<8.4.0,>=8.3.0->convokit->-r ./../requirements.txt (line 1)) (1.2.0)\n",
      "Requirement already satisfied: confection<1.0.0,>=0.0.1 in /Users/birajdahal/.pyenv/versions/3.11.9/lib/python3.11/site-packages (from thinc<8.4.0,>=8.3.0->convokit->-r ./../requirements.txt (line 1)) (0.1.5)\n",
      "Requirement already satisfied: datasets>=2.21.0 in /Users/birajdahal/.pyenv/versions/3.11.9/lib/python3.11/site-packages (from trl>=0.12.2->convokit->-r ./../requirements.txt (line 1)) (3.3.1)\n",
      "Requirement already satisfied: rich in /Users/birajdahal/.pyenv/versions/3.11.9/lib/python3.11/site-packages (from trl>=0.12.2->convokit->-r ./../requirements.txt (line 1)) (13.9.4)\n",
      "Requirement already satisfied: psutil in /Users/birajdahal/.pyenv/versions/3.11.9/lib/python3.11/site-packages (from accelerate->convokit->-r ./../requirements.txt (line 1)) (7.0.0)\n",
      "Requirement already satisfied: MarkupSafe>=2.0 in /Users/birajdahal/.pyenv/versions/3.11.9/lib/python3.11/site-packages (from jinja2->torch->-r ./../requirements.txt (line 6)) (3.0.2)\n",
      "Requirement already satisfied: wheel<1.0,>=0.23.0 in /Users/birajdahal/.pyenv/versions/3.11.9/lib/python3.11/site-packages (from astunparse>=1.6.0->tensorflow>=2.18.0->convokit->-r ./../requirements.txt (line 1)) (0.45.1)\n",
      "Requirement already satisfied: pyarrow>=15.0.0 in /Users/birajdahal/.pyenv/versions/3.11.9/lib/python3.11/site-packages (from datasets>=2.21.0->trl>=0.12.2->convokit->-r ./../requirements.txt (line 1)) (19.0.1)\n",
      "Requirement already satisfied: xxhash in /Users/birajdahal/.pyenv/versions/3.11.9/lib/python3.11/site-packages (from datasets>=2.21.0->trl>=0.12.2->convokit->-r ./../requirements.txt (line 1)) (3.5.0)\n",
      "Requirement already satisfied: multiprocess<0.70.17 in /Users/birajdahal/.pyenv/versions/3.11.9/lib/python3.11/site-packages (from datasets>=2.21.0->trl>=0.12.2->convokit->-r ./../requirements.txt (line 1)) (0.70.16)\n",
      "Requirement already satisfied: aiohttp in /Users/birajdahal/.pyenv/versions/3.11.9/lib/python3.11/site-packages (from datasets>=2.21.0->trl>=0.12.2->convokit->-r ./../requirements.txt (line 1)) (3.11.12)\n",
      "Requirement already satisfied: wcwidth in /Users/birajdahal/.pyenv/versions/3.11.9/lib/python3.11/site-packages (from ftfy<7.0,>=6.0->clean-text>=0.6.0->convokit->-r ./../requirements.txt (line 1)) (0.2.13)\n",
      "Requirement already satisfied: namex in /Users/birajdahal/.pyenv/versions/3.11.9/lib/python3.11/site-packages (from keras>=3.5.0->tensorflow>=2.18.0->convokit->-r ./../requirements.txt (line 1)) (0.0.8)\n",
      "Requirement already satisfied: optree in /Users/birajdahal/.pyenv/versions/3.11.9/lib/python3.11/site-packages (from keras>=3.5.0->tensorflow>=2.18.0->convokit->-r ./../requirements.txt (line 1)) (0.14.0)\n",
      "Requirement already satisfied: language-data>=1.2 in /Users/birajdahal/.pyenv/versions/3.11.9/lib/python3.11/site-packages (from langcodes<4.0.0,>=3.2.0->spacy>=3.8.2->convokit->-r ./../requirements.txt (line 1)) (1.3.0)\n",
      "Requirement already satisfied: annotated-types>=0.6.0 in /Users/birajdahal/.pyenv/versions/3.11.9/lib/python3.11/site-packages (from pydantic!=1.8,!=1.8.1,<3.0.0,>=1.7.4->spacy>=3.8.2->convokit->-r ./../requirements.txt (line 1)) (0.7.0)\n",
      "Requirement already satisfied: pydantic-core==2.27.2 in /Users/birajdahal/.pyenv/versions/3.11.9/lib/python3.11/site-packages (from pydantic!=1.8,!=1.8.1,<3.0.0,>=1.7.4->spacy>=3.8.2->convokit->-r ./../requirements.txt (line 1)) (2.27.2)\n",
      "Requirement already satisfied: markdown>=2.6.8 in /Users/birajdahal/.pyenv/versions/3.11.9/lib/python3.11/site-packages (from tensorboard<2.19,>=2.18->tensorflow>=2.18.0->convokit->-r ./../requirements.txt (line 1)) (3.7)\n",
      "Requirement already satisfied: tensorboard-data-server<0.8.0,>=0.7.0 in /Users/birajdahal/.pyenv/versions/3.11.9/lib/python3.11/site-packages (from tensorboard<2.19,>=2.18->tensorflow>=2.18.0->convokit->-r ./../requirements.txt (line 1)) (0.7.2)\n",
      "Requirement already satisfied: werkzeug>=1.0.1 in /Users/birajdahal/.pyenv/versions/3.11.9/lib/python3.11/site-packages (from tensorboard<2.19,>=2.18->tensorflow>=2.18.0->convokit->-r ./../requirements.txt (line 1)) (3.1.3)\n",
      "Requirement already satisfied: shellingham>=1.3.0 in /Users/birajdahal/.pyenv/versions/3.11.9/lib/python3.11/site-packages (from typer<1.0.0,>=0.3.0->spacy>=3.8.2->convokit->-r ./../requirements.txt (line 1)) (1.5.4)\n",
      "Requirement already satisfied: markdown-it-py>=2.2.0 in /Users/birajdahal/.pyenv/versions/3.11.9/lib/python3.11/site-packages (from rich->trl>=0.12.2->convokit->-r ./../requirements.txt (line 1)) (3.0.0)\n",
      "Requirement already satisfied: pygments<3.0.0,>=2.13.0 in /Users/birajdahal/.pyenv/versions/3.11.9/lib/python3.11/site-packages (from rich->trl>=0.12.2->convokit->-r ./../requirements.txt (line 1)) (2.19.1)\n",
      "Requirement already satisfied: cloudpathlib<1.0.0,>=0.7.0 in /Users/birajdahal/.pyenv/versions/3.11.9/lib/python3.11/site-packages (from weasel<0.5.0,>=0.1.0->spacy>=3.8.2->convokit->-r ./../requirements.txt (line 1)) (0.20.0)\n",
      "Requirement already satisfied: smart-open<8.0.0,>=5.2.1 in /Users/birajdahal/.pyenv/versions/3.11.9/lib/python3.11/site-packages (from weasel<0.5.0,>=0.1.0->spacy>=3.8.2->convokit->-r ./../requirements.txt (line 1)) (7.1.0)\n",
      "Requirement already satisfied: aiohappyeyeballs>=2.3.0 in /Users/birajdahal/.pyenv/versions/3.11.9/lib/python3.11/site-packages (from aiohttp->datasets>=2.21.0->trl>=0.12.2->convokit->-r ./../requirements.txt (line 1)) (2.4.6)\n",
      "Requirement already satisfied: aiosignal>=1.1.2 in /Users/birajdahal/.pyenv/versions/3.11.9/lib/python3.11/site-packages (from aiohttp->datasets>=2.21.0->trl>=0.12.2->convokit->-r ./../requirements.txt (line 1)) (1.3.2)\n",
      "Requirement already satisfied: attrs>=17.3.0 in /Users/birajdahal/.pyenv/versions/3.11.9/lib/python3.11/site-packages (from aiohttp->datasets>=2.21.0->trl>=0.12.2->convokit->-r ./../requirements.txt (line 1)) (25.1.0)\n",
      "Requirement already satisfied: frozenlist>=1.1.1 in /Users/birajdahal/.pyenv/versions/3.11.9/lib/python3.11/site-packages (from aiohttp->datasets>=2.21.0->trl>=0.12.2->convokit->-r ./../requirements.txt (line 1)) (1.5.0)\n",
      "Requirement already satisfied: multidict<7.0,>=4.5 in /Users/birajdahal/.pyenv/versions/3.11.9/lib/python3.11/site-packages (from aiohttp->datasets>=2.21.0->trl>=0.12.2->convokit->-r ./../requirements.txt (line 1)) (6.1.0)\n",
      "Requirement already satisfied: propcache>=0.2.0 in /Users/birajdahal/.pyenv/versions/3.11.9/lib/python3.11/site-packages (from aiohttp->datasets>=2.21.0->trl>=0.12.2->convokit->-r ./../requirements.txt (line 1)) (0.2.1)\n",
      "Requirement already satisfied: yarl<2.0,>=1.17.0 in /Users/birajdahal/.pyenv/versions/3.11.9/lib/python3.11/site-packages (from aiohttp->datasets>=2.21.0->trl>=0.12.2->convokit->-r ./../requirements.txt (line 1)) (1.18.3)\n",
      "Requirement already satisfied: marisa-trie>=1.1.0 in /Users/birajdahal/.pyenv/versions/3.11.9/lib/python3.11/site-packages (from language-data>=1.2->langcodes<4.0.0,>=3.2.0->spacy>=3.8.2->convokit->-r ./../requirements.txt (line 1)) (1.2.1)\n",
      "Requirement already satisfied: mdurl~=0.1 in /Users/birajdahal/.pyenv/versions/3.11.9/lib/python3.11/site-packages (from markdown-it-py>=2.2.0->rich->trl>=0.12.2->convokit->-r ./../requirements.txt (line 1)) (0.1.2)\n",
      "\n",
      "\u001b[1m[\u001b[0m\u001b[34;49mnotice\u001b[0m\u001b[1;39;49m]\u001b[0m\u001b[39;49m A new release of pip is available: \u001b[0m\u001b[31;49m24.0\u001b[0m\u001b[39;49m -> \u001b[0m\u001b[32;49m25.0.1\u001b[0m\n",
      "\u001b[1m[\u001b[0m\u001b[34;49mnotice\u001b[0m\u001b[1;39;49m]\u001b[0m\u001b[39;49m To update, run: \u001b[0m\u001b[32;49mpip install --upgrade pip\u001b[0m\n",
      "Note: you may need to restart the kernel to use updated packages.\n"
     ]
    }
   ],
   "source": [
    "%pip install -r ./../requirements.txt\n"
   ]
  },
  {
   "cell_type": "code",
   "execution_count": 3,
   "metadata": {},
   "outputs": [
    {
     "name": "stderr",
     "output_type": "stream",
     "text": [
      "/Users/birajdahal/.pyenv/versions/3.11.9/lib/python3.11/site-packages/tqdm/auto.py:21: TqdmWarning: IProgress not found. Please update jupyter and ipywidgets. See https://ipywidgets.readthedocs.io/en/stable/user_install.html\n",
      "  from .autonotebook import tqdm as notebook_tqdm\n"
     ]
    }
   ],
   "source": [
    "import convokit\n",
    "from convokit import Corpus, download\n",
    "import pandas as pd\n",
    "from collections import Counter\n",
    "import numpy as np\n",
    "from sklearn.feature_extraction.text import TfidfVectorizer\n",
    "from transformers import GPT2LMHeadModel, GPT2Tokenizer\n",
    "import torch"
   ]
  },
  {
   "cell_type": "code",
   "execution_count": 4,
   "metadata": {},
   "outputs": [
    {
     "name": "stdout",
     "output_type": "stream",
     "text": [
      "No configuration file found at /Users/birajdahal/.convokit/config.yml; writing with contents: \n",
      "# Default Backend Parameters\n",
      "db_host: localhost:27017\n",
      "data_directory: ~/.convokit/saved-corpora\n",
      "model_directory: ~/.convokit/saved-models\n",
      "default_backend: mem\n",
      "Downloading friends-corpus to /Users/birajdahal/.convokit/saved-corpora/friends-corpus\n",
      "Downloading friends-corpus from http://zissou.infosci.cornell.edu/convokit/datasets/friends-corpus/friends-corpus.zip (6.1MB)... Done\n"
     ]
    }
   ],
   "source": [
    "corpus = Corpus(filename=download(\"friends-corpus\"))"
   ]
  },
  {
   "cell_type": "code",
   "execution_count": null,
   "metadata": {},
   "outputs": [],
   "source": []
  },
  {
   "cell_type": "code",
   "execution_count": 10,
   "metadata": {},
   "outputs": [
    {
     "name": "stdout",
     "output_type": "stream",
     "text": [
      "Total Speakers: 700\n"
     ]
    }
   ],
   "source": [
    "print(f\"Total Speakers: {len(list(corpus.iter_speakers()))}\")"
   ]
  },
  {
   "cell_type": "code",
   "execution_count": 20,
   "metadata": {},
   "outputs": [
    {
     "name": "stdout",
     "output_type": "stream",
     "text": [
      "[Speaker({'obj_type': 'speaker', 'vectors': [], 'owner': <convokit.model.corpus.Corpus object at 0x3247ba210>, 'id': 'Monica Geller', 'meta': ConvoKitMeta({})}), Speaker({'obj_type': 'speaker', 'vectors': [], 'owner': <convokit.model.corpus.Corpus object at 0x3247ba210>, 'id': 'Joey Tribbiani', 'meta': ConvoKitMeta({})}), Speaker({'obj_type': 'speaker', 'vectors': [], 'owner': <convokit.model.corpus.Corpus object at 0x3247ba210>, 'id': 'Chandler Bing', 'meta': ConvoKitMeta({})}), Speaker({'obj_type': 'speaker', 'vectors': [], 'owner': <convokit.model.corpus.Corpus object at 0x3247ba210>, 'id': 'Phoebe Buffay', 'meta': ConvoKitMeta({})}), Speaker({'obj_type': 'speaker', 'vectors': [], 'owner': <convokit.model.corpus.Corpus object at 0x3247ba210>, 'id': 'TRANSCRIPT_NOTE', 'meta': ConvoKitMeta({})}), Speaker({'obj_type': 'speaker', 'vectors': [], 'owner': <convokit.model.corpus.Corpus object at 0x3247ba210>, 'id': '#ALL#', 'meta': ConvoKitMeta({})}), Speaker({'obj_type': 'speaker', 'vectors': [], 'owner': <convokit.model.corpus.Corpus object at 0x3247ba210>, 'id': 'Ross Geller', 'meta': ConvoKitMeta({})}), Speaker({'obj_type': 'speaker', 'vectors': [], 'owner': <convokit.model.corpus.Corpus object at 0x3247ba210>, 'id': 'Rachel Green', 'meta': ConvoKitMeta({})}), Speaker({'obj_type': 'speaker', 'vectors': [], 'owner': <convokit.model.corpus.Corpus object at 0x3247ba210>, 'id': 'Waitress', 'meta': ConvoKitMeta({})}), Speaker({'obj_type': 'speaker', 'vectors': [], 'owner': <convokit.model.corpus.Corpus object at 0x3247ba210>, 'id': 'Paul the Wine Guy', 'meta': ConvoKitMeta({})}), Speaker({'obj_type': 'speaker', 'vectors': [], 'owner': <convokit.model.corpus.Corpus object at 0x3247ba210>, 'id': 'Priest On Tv', 'meta': ConvoKitMeta({})}), Speaker({'obj_type': 'speaker', 'vectors': [], 'owner': <convokit.model.corpus.Corpus object at 0x3247ba210>, 'id': 'Franny', 'meta': ConvoKitMeta({})}), Speaker({'obj_type': 'speaker', 'vectors': [], 'owner': <convokit.model.corpus.Corpus object at 0x3247ba210>, 'id': 'Customer', 'meta': ConvoKitMeta({})}), Speaker({'obj_type': 'speaker', 'vectors': [], 'owner': <convokit.model.corpus.Corpus object at 0x3247ba210>, 'id': 'Marsha', 'meta': ConvoKitMeta({})}), Speaker({'obj_type': 'speaker', 'vectors': [], 'owner': <convokit.model.corpus.Corpus object at 0x3247ba210>, 'id': 'Carol Willick', 'meta': ConvoKitMeta({})}), Speaker({'obj_type': 'speaker', 'vectors': [], 'owner': <convokit.model.corpus.Corpus object at 0x3247ba210>, 'id': 'Judy Geller', 'meta': ConvoKitMeta({})}), Speaker({'obj_type': 'speaker', 'vectors': [], 'owner': <convokit.model.corpus.Corpus object at 0x3247ba210>, 'id': 'Susan Bunch', 'meta': ConvoKitMeta({})}), Speaker({'obj_type': 'speaker', 'vectors': [], 'owner': <convokit.model.corpus.Corpus object at 0x3247ba210>, 'id': 'Barry Farber', 'meta': ConvoKitMeta({})}), Speaker({'obj_type': 'speaker', 'vectors': [], 'owner': <convokit.model.corpus.Corpus object at 0x3247ba210>, 'id': 'Robbie', 'meta': ConvoKitMeta({})}), Speaker({'obj_type': 'speaker', 'vectors': [], 'owner': <convokit.model.corpus.Corpus object at 0x3247ba210>, 'id': 'Bernice', 'meta': ConvoKitMeta({})}), Speaker({'obj_type': 'speaker', 'vectors': [], 'owner': <convokit.model.corpus.Corpus object at 0x3247ba210>, 'id': 'Dr. Oberman', 'meta': ConvoKitMeta({})}), Speaker({'obj_type': 'speaker', 'vectors': [], 'owner': <convokit.model.corpus.Corpus object at 0x3247ba210>, 'id': 'Paula', 'meta': ConvoKitMeta({})}), Speaker({'obj_type': 'speaker', 'vectors': [], 'owner': <convokit.model.corpus.Corpus object at 0x3247ba210>, 'id': 'Alan', 'meta': ConvoKitMeta({})}), Speaker({'obj_type': 'speaker', 'vectors': [], 'owner': <convokit.model.corpus.Corpus object at 0x3247ba210>, 'id': 'The Guys', 'meta': ConvoKitMeta({})}), Speaker({'obj_type': 'speaker', 'vectors': [], 'owner': <convokit.model.corpus.Corpus object at 0x3247ba210>, 'id': 'Lizzy', 'meta': ConvoKitMeta({})}), Speaker({'obj_type': 'speaker', 'vectors': [], 'owner': <convokit.model.corpus.Corpus object at 0x3247ba210>, 'id': 'Guys', 'meta': ConvoKitMeta({})}), Speaker({'obj_type': 'speaker', 'vectors': [], 'owner': <convokit.model.corpus.Corpus object at 0x3247ba210>, 'id': 'Leslie', 'meta': ConvoKitMeta({})}), Speaker({'obj_type': 'speaker', 'vectors': [], 'owner': <convokit.model.corpus.Corpus object at 0x3247ba210>, 'id': 'Kiki', 'meta': ConvoKitMeta({})}), Speaker({'obj_type': 'speaker', 'vectors': [], 'owner': <convokit.model.corpus.Corpus object at 0x3247ba210>, 'id': 'Joanne', 'meta': ConvoKitMeta({})}), Speaker({'obj_type': 'speaker', 'vectors': [], 'owner': <convokit.model.corpus.Corpus object at 0x3247ba210>, 'id': 'Receptionist', 'meta': ConvoKitMeta({})}), Speaker({'obj_type': 'speaker', 'vectors': [], 'owner': <convokit.model.corpus.Corpus object at 0x3247ba210>, 'id': 'Pizza Guy', 'meta': ConvoKitMeta({})}), Speaker({'obj_type': 'speaker', 'vectors': [], 'owner': <convokit.model.corpus.Corpus object at 0x3247ba210>, 'id': 'Both', 'meta': ConvoKitMeta({})}), Speaker({'obj_type': 'speaker', 'vectors': [], 'owner': <convokit.model.corpus.Corpus object at 0x3247ba210>, 'id': 'Kid', 'meta': ConvoKitMeta({})}), Speaker({'obj_type': 'speaker', 'vectors': [], 'owner': <convokit.model.corpus.Corpus object at 0x3247ba210>, 'id': 'Angela Delveccio', 'meta': ConvoKitMeta({})}), Speaker({'obj_type': 'speaker', 'vectors': [], 'owner': <convokit.model.corpus.Corpus object at 0x3247ba210>, 'id': 'Janice Litman Goralnik', 'meta': ConvoKitMeta({})}), Speaker({'obj_type': 'speaker', 'vectors': [], 'owner': <convokit.model.corpus.Corpus object at 0x3247ba210>, 'id': 'Woman', 'meta': ConvoKitMeta({})}), Speaker({'obj_type': 'speaker', 'vectors': [], 'owner': <convokit.model.corpus.Corpus object at 0x3247ba210>, 'id': 'Bob', 'meta': ConvoKitMeta({})}), Speaker({'obj_type': 'speaker', 'vectors': [], 'owner': <convokit.model.corpus.Corpus object at 0x3247ba210>, 'id': 'Aurora', 'meta': ConvoKitMeta({})}), Speaker({'obj_type': 'speaker', 'vectors': [], 'owner': <convokit.model.corpus.Corpus object at 0x3247ba210>, 'id': 'Director', 'meta': ConvoKitMeta({})}), Speaker({'obj_type': 'speaker', 'vectors': [], 'owner': <convokit.model.corpus.Corpus object at 0x3247ba210>, 'id': 'Jill Goodacre', 'meta': ConvoKitMeta({})}), Speaker({'obj_type': 'speaker', 'vectors': [], 'owner': <convokit.model.corpus.Corpus object at 0x3247ba210>, 'id': 'Mr. Heckles', 'meta': ConvoKitMeta({})}), Speaker({'obj_type': 'speaker', 'vectors': [], 'owner': <convokit.model.corpus.Corpus object at 0x3247ba210>, 'id': 'Paolo', 'meta': ConvoKitMeta({})}), Speaker({'obj_type': 'speaker', 'vectors': [], 'owner': <convokit.model.corpus.Corpus object at 0x3247ba210>, 'id': 'Shelley', 'meta': ConvoKitMeta({})}), Speaker({'obj_type': 'speaker', 'vectors': [], 'owner': <convokit.model.corpus.Corpus object at 0x3247ba210>, 'id': 'Aunt Lillian', 'meta': ConvoKitMeta({})}), Speaker({'obj_type': 'speaker', 'vectors': [], 'owner': <convokit.model.corpus.Corpus object at 0x3247ba210>, 'id': 'Nurse Sizemore', 'meta': ConvoKitMeta({})}), Speaker({'obj_type': 'speaker', 'vectors': [], 'owner': <convokit.model.corpus.Corpus object at 0x3247ba210>, 'id': 'Andrea', 'meta': ConvoKitMeta({})}), Speaker({'obj_type': 'speaker', 'vectors': [], 'owner': <convokit.model.corpus.Corpus object at 0x3247ba210>, 'id': 'Lowell', 'meta': ConvoKitMeta({})}), Speaker({'obj_type': 'speaker', 'vectors': [], 'owner': <convokit.model.corpus.Corpus object at 0x3247ba210>, 'id': 'Terry', 'meta': ConvoKitMeta({})}), Speaker({'obj_type': 'speaker', 'vectors': [], 'owner': <convokit.model.corpus.Corpus object at 0x3247ba210>, 'id': 'Guy', 'meta': ConvoKitMeta({})}), Speaker({'obj_type': 'speaker', 'vectors': [], 'owner': <convokit.model.corpus.Corpus object at 0x3247ba210>, 'id': 'Girl', 'meta': ConvoKitMeta({})})]\n"
     ]
    }
   ],
   "source": [
    "top_five_speakers = list(corpus.iter_speakers())[:50]\n",
    "print(top_five_speakers)\n",
    "\n"
   ]
  },
  {
   "cell_type": "code",
   "execution_count": null,
   "metadata": {},
   "outputs": [
    {
     "name": "stdout",
     "output_type": "stream",
     "text": [
      "Monica Geller\n",
      "Joey Tribbiani\n",
      "Chandler Bing\n",
      "Phoebe Buffay\n",
      "TRANSCRIPT_NOTE\n",
      "#ALL#\n",
      "Ross Geller\n",
      "Rachel Green\n",
      "Waitress\n",
      "Paul the Wine Guy\n",
      "Priest On Tv\n",
      "Franny\n",
      "Customer\n",
      "Marsha\n",
      "Carol Willick\n",
      "Judy Geller\n",
      "Susan Bunch\n",
      "Barry Farber\n",
      "Robbie\n",
      "Bernice\n",
      "Dr. Oberman\n",
      "Paula\n",
      "Alan\n",
      "The Guys\n",
      "Lizzy\n",
      "Guys\n",
      "Leslie\n",
      "Kiki\n",
      "Joanne\n",
      "Receptionist\n",
      "Pizza Guy\n",
      "Both\n",
      "Kid\n",
      "Angela Delveccio\n",
      "Janice Litman Goralnik\n",
      "Woman\n",
      "Bob\n",
      "Aurora\n",
      "Director\n",
      "Jill Goodacre\n",
      "Mr. Heckles\n",
      "Paolo\n",
      "Shelley\n",
      "Aunt Lillian\n",
      "Nurse Sizemore\n",
      "Andrea\n",
      "Lowell\n",
      "Terry\n",
      "Guy\n",
      "Girl\n"
     ]
    }
   ],
   "source": [
    "for i in top_five_speakers:\n",
    "    print(i.id)\n"
   ]
  },
  {
   "cell_type": "code",
   "execution_count": null,
   "metadata": {},
   "outputs": [],
   "source": []
  }
 ],
 "metadata": {
  "kernelspec": {
   "display_name": "3.11.9",
   "language": "python",
   "name": "python3"
  },
  "language_info": {
   "codemirror_mode": {
    "name": "ipython",
    "version": 3
   },
   "file_extension": ".py",
   "mimetype": "text/x-python",
   "name": "python",
   "nbconvert_exporter": "python",
   "pygments_lexer": "ipython3",
   "version": "3.11.9"
  }
 },
 "nbformat": 4,
 "nbformat_minor": 2
}
